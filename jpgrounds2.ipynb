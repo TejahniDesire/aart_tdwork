{
 "cells": [
  {
   "cell_type": "code",
   "execution_count": 8,
   "id": "initial_id",
   "metadata": {
    "collapsed": true,
    "ExecuteTime": {
     "end_time": "2024-04-24T00:48:29.928040848Z",
     "start_time": "2024-04-24T00:48:29.027780821Z"
    }
   },
   "outputs": [
    {
     "name": "stdout",
     "output_type": "stream",
     "text": [
      "The autoreload extension is already loaded. To reload it, use:\n",
      "  %reload_ext autoreload\n"
     ]
    }
   ],
   "source": [
    "import matplotlib.pyplot as plt\n",
    "import numpy as np\n",
    "\n",
    "\n",
    "from aart_func import *\n",
    "import params\n",
    "from params import * # The file params.py contains all the relevant parameters for the simulations\n",
    "from astropy import units as u\n",
    "import kgeo\n",
    "import image_tools as tls\n",
    "import subprocess\n",
    "import scipy.interpolate\n",
    "import bigRunComputing\n",
    "from matplotlib import ticker\n",
    "from matplotlib.lines import Line2D\n",
    "\n",
    "%load_ext autoreload\n",
    "%autoreload 2\n",
    "import importlib \n",
    "from functools import partial "
   ]
  },
  {
   "cell_type": "code",
   "execution_count": 7,
   "outputs": [
    {
     "data": {
      "text/plain": "True"
     },
     "execution_count": 7,
     "metadata": {},
     "output_type": "execute_result"
    }
   ],
   "source": [
    "t = [\"Model11\",\"Model22\"]\n",
    "\"Model11\" in t"
   ],
   "metadata": {
    "collapsed": false,
    "ExecuteTime": {
     "end_time": "2024-04-22T16:26:33.676032881Z",
     "start_time": "2024-04-22T16:26:33.639227111Z"
    }
   },
   "id": "16a14ac9861b4206"
  },
  {
   "cell_type": "code",
   "execution_count": 14,
   "outputs": [
    {
     "name": "stdout",
     "output_type": "stream",
     "text": [
      "6.262241356155654\n"
     ]
    }
   ],
   "source": [
    "t=np.linspace(0, 2 * np.pi, 300,endpoint=False)\n",
    "print(t[300-1])"
   ],
   "metadata": {
    "collapsed": false,
    "ExecuteTime": {
     "end_time": "2024-04-24T00:50:17.708928438Z",
     "start_time": "2024-04-24T00:50:17.674849627Z"
    }
   },
   "id": "afce89b2f4dbdf4a"
  },
  {
   "cell_type": "code",
   "execution_count": 17,
   "outputs": [
    {
     "data": {
      "text/plain": "6"
     },
     "execution_count": 17,
     "metadata": {},
     "output_type": "execute_result"
    }
   ],
   "source": [
    "np.array([[1,2,3],[4,6,7],[8,9,10]])[1,1]"
   ],
   "metadata": {
    "collapsed": false,
    "ExecuteTime": {
     "end_time": "2024-04-24T02:12:11.780496697Z",
     "start_time": "2024-04-24T02:12:11.749304030Z"
    }
   },
   "id": "8183a67f3b251c63"
  },
  {
   "cell_type": "code",
   "execution_count": 19,
   "outputs": [
    {
     "ename": "TypeError",
     "evalue": "unhashable type: 'list'",
     "output_type": "error",
     "traceback": [
      "\u001B[0;31m---------------------------------------------------------------------------\u001B[0m",
      "\u001B[0;31mTypeError\u001B[0m                                 Traceback (most recent call last)",
      "Cell \u001B[0;32mIn[19], line 3\u001B[0m\n\u001B[1;32m      1\u001B[0m t \u001B[38;5;241m=\u001B[39m {\u001B[38;5;124m\"\u001B[39m\u001B[38;5;124mModel11\u001B[39m\u001B[38;5;124m\"\u001B[39m:\u001B[38;5;241m1\u001B[39m, \u001B[38;5;124m\"\u001B[39m\u001B[38;5;124mModel22\u001B[39m\u001B[38;5;124m\"\u001B[39m:\u001B[38;5;241m1\u001B[39m,\u001B[38;5;124m\"\u001B[39m\u001B[38;5;124mModel33\u001B[39m\u001B[38;5;124m\"\u001B[39m:\u001B[38;5;241m1\u001B[39m,\u001B[38;5;124m\"\u001B[39m\u001B[38;5;124mModel44\u001B[39m\u001B[38;5;124m\"\u001B[39m:\u001B[38;5;241m1\u001B[39m}\n\u001B[1;32m      2\u001B[0m keys \u001B[38;5;241m=\u001B[39m [\u001B[38;5;124m\"\u001B[39m\u001B[38;5;124mModel22\u001B[39m\u001B[38;5;124m\"\u001B[39m,\u001B[38;5;124m\"\u001B[39m\u001B[38;5;124mModel33\u001B[39m\u001B[38;5;124m\"\u001B[39m]\n\u001B[0;32m----> 3\u001B[0m \u001B[38;5;28mprint\u001B[39m(t[keys])\n",
      "\u001B[0;31mTypeError\u001B[0m: unhashable type: 'list'"
     ]
    }
   ],
   "source": [
    "t = {\"Model11\":1, \"Model22\":1,\"Model33\":1,\"Model44\":1}\n",
    "keys = [\"Model22\",\"Model33\"]\n",
    "print(t[keys])"
   ],
   "metadata": {
    "collapsed": false,
    "ExecuteTime": {
     "end_time": "2024-04-24T03:23:27.499517740Z",
     "start_time": "2024-04-24T03:23:27.455701180Z"
    }
   },
   "id": "b304b4341fc7b61c"
  },
  {
   "cell_type": "code",
   "execution_count": 20,
   "outputs": [
    {
     "data": {
      "text/plain": "0"
     },
     "execution_count": 20,
     "metadata": {},
     "output_type": "execute_result"
    }
   ],
   "source": [
    "3%3"
   ],
   "metadata": {
    "collapsed": false,
    "ExecuteTime": {
     "end_time": "2024-04-24T04:39:33.167879076Z",
     "start_time": "2024-04-24T04:39:33.138872367Z"
    }
   },
   "id": "bad22c7580153452"
  }
 ],
 "metadata": {
  "kernelspec": {
   "display_name": "Python 3",
   "language": "python",
   "name": "python3"
  },
  "language_info": {
   "codemirror_mode": {
    "name": "ipython",
    "version": 2
   },
   "file_extension": ".py",
   "mimetype": "text/x-python",
   "name": "python",
   "nbconvert_exporter": "python",
   "pygments_lexer": "ipython2",
   "version": "2.7.6"
  }
 },
 "nbformat": 4,
 "nbformat_minor": 5
}
