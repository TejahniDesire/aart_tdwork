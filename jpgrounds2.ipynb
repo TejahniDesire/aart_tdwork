{
 "cells": [
  {
   "cell_type": "code",
   "execution_count": 1,
   "id": "initial_id",
   "metadata": {
    "collapsed": true,
    "ExecuteTime": {
     "end_time": "2024-04-05T01:25:02.622485681Z",
     "start_time": "2024-04-05T01:24:59.887190274Z"
    }
   },
   "outputs": [
    {
     "name": "stdout",
     "output_type": "stream",
     "text": [
      "Warning: No NFFT installed! Cannot use nfft functions\n",
      "Warning: No NFFT installed!\n",
      "Warning: No NFFT installed! Cannot use nfft functions\n",
      "Warning: No NFFT installed! Cannot use nfft functions\n",
      "Welcome to eht-imaging! v 1.2.5 \n"
     ]
    }
   ],
   "source": [
    "import matplotlib.pyplot as plt\n",
    "import numpy as np\n",
    "\n",
    "\n",
    "from aart_func import *\n",
    "import params\n",
    "from params import * # The file params.py contains all the relevant parameters for the simulations\n",
    "from astropy import units as u\n",
    "import kgeo\n",
    "import image_tools as tls\n",
    "import subprocess\n",
    "import scipy.interpolate\n",
    "import bigRunComputing\n",
    "from matplotlib import ticker\n",
    "from matplotlib.lines import Line2D\n",
    "\n",
    "%load_ext autoreload\n",
    "%autoreload 2\n",
    "import importlib \n",
    "from functools import partial"
   ]
  },
  {
   "cell_type": "code",
   "execution_count": 5,
   "outputs": [
    {
     "data": {
      "text/plain": "0"
     },
     "execution_count": 5,
     "metadata": {},
     "output_type": "execute_result"
    }
   ],
   "source": [
    "names = [\"Model1\", \"Model2\", \"Model3\"]\n",
    "names.index(\"Model1\")"
   ],
   "metadata": {
    "collapsed": false,
    "ExecuteTime": {
     "end_time": "2024-04-05T02:26:11.528311476Z",
     "start_time": "2024-04-05T02:26:11.486571736Z"
    }
   },
   "id": "d971d01f1611b9ac"
  },
  {
   "cell_type": "code",
   "execution_count": 2,
   "outputs": [
    {
     "data": {
      "text/plain": "1"
     },
     "execution_count": 2,
     "metadata": {},
     "output_type": "execute_result"
    }
   ],
   "source": [],
   "metadata": {
    "collapsed": false,
    "ExecuteTime": {
     "end_time": "2024-04-05T01:26:26.029377706Z",
     "start_time": "2024-04-05T01:26:25.981837510Z"
    }
   },
   "id": "8c696f733e194999"
  },
  {
   "cell_type": "code",
   "execution_count": 8,
   "outputs": [
    {
     "name": "stdout",
     "output_type": "stream",
     "text": [
      "co\n"
     ]
    }
   ],
   "source": [
    "model = \"comm\"\n",
    "bstring =  model\n",
    "bstring = model[0:len(model) - 2]\n",
    "print(bstring)"
   ],
   "metadata": {
    "collapsed": false,
    "ExecuteTime": {
     "end_time": "2024-04-02T20:01:48.363721654Z",
     "start_time": "2024-04-02T20:01:48.311969285Z"
    }
   },
   "id": "fe489e8f839425a9"
  },
  {
   "cell_type": "code",
   "execution_count": 53,
   "outputs": [
    {
     "name": "stdout",
     "output_type": "stream",
     "text": [
      "[0.         0.47712125 0.69897   ]\n"
     ]
    }
   ],
   "source": [
    "test = np.array([2,3,1])\n",
    "test2 = np.array([0,3,5])\n",
    "test3 = np.log10(test2)\n",
    "test3[test3==-np.Infinity] = 0\n",
    "print(test3)"
   ],
   "metadata": {
    "collapsed": false,
    "ExecuteTime": {
     "end_time": "2024-03-29T15:14:55.884082135Z",
     "start_time": "2024-03-29T15:14:55.827021592Z"
    }
   },
   "id": "ef5acd974430cbbb"
  },
  {
   "cell_type": "code",
   "execution_count": 45,
   "outputs": [
    {
     "name": "stdout",
     "output_type": "stream",
     "text": [
      "[[  0.   0. 100.]\n",
      " [  2.   2.   2.]]\n",
      "1\n",
      "Not All False\n",
      "[2]\n"
     ]
    }
   ],
   "source": [
    "t = np.zeros(3)\n",
    "t[2] = 100\n",
    "t = np.vstack((t,np.array([2,2,2])))\n",
    "print(t)\n",
    "# print(\"_________\")\n",
    "# t = np.delete(t,0,0)\n",
    "# print(t)\n",
    "peak = np.argmax(t,1)\n",
    "print(np.argmax(peak==0))\n",
    "if not np.all((peak==0) == False):\n",
    "    print(\"Not All False\")\n",
    "peak = np.delete(peak,np.argmax(peak==0))\n",
    "print(peak)"
   ],
   "metadata": {
    "collapsed": false,
    "ExecuteTime": {
     "end_time": "2024-03-14T23:53:17.426064285Z",
     "start_time": "2024-03-14T23:53:17.399989649Z"
    }
   },
   "id": "d034384b6fc24c6d"
  },
  {
   "cell_type": "code",
   "execution_count": null,
   "outputs": [],
   "source": [
    "# profs = scipy.ndimage.convolve1d(profs, np.ones(navg_ang), axis=0)/navg_ang"
   ],
   "metadata": {
    "collapsed": false
   },
   "id": "f8cbb438b49d6e14"
  },
  {
   "cell_type": "code",
   "execution_count": 5,
   "outputs": [],
   "source": [],
   "metadata": {
    "collapsed": false,
    "ExecuteTime": {
     "end_time": "2024-04-05T19:23:19.442303562Z",
     "start_time": "2024-04-05T19:23:19.420993237Z"
    }
   },
   "id": "349244609a0a33f6"
  },
  {
   "cell_type": "code",
   "execution_count": null,
   "outputs": [],
   "source": [],
   "metadata": {
    "collapsed": false
   },
   "id": "16a14ac9861b4206"
  }
 ],
 "metadata": {
  "kernelspec": {
   "display_name": "Python 3",
   "language": "python",
   "name": "python3"
  },
  "language_info": {
   "codemirror_mode": {
    "name": "ipython",
    "version": 2
   },
   "file_extension": ".py",
   "mimetype": "text/x-python",
   "name": "python",
   "nbconvert_exporter": "python",
   "pygments_lexer": "ipython2",
   "version": "2.7.6"
  }
 },
 "nbformat": 4,
 "nbformat_minor": 5
}
