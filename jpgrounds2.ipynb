{
 "cells": [
  {
   "cell_type": "code",
   "execution_count": 72,
   "id": "initial_id",
   "metadata": {
    "collapsed": true,
    "ExecuteTime": {
     "end_time": "2024-04-27T19:35:45.326804097Z",
     "start_time": "2024-04-27T19:35:45.290126986Z"
    }
   },
   "outputs": [],
   "source": [
    "import matplotlib.pyplot as plt\n",
    "import numpy as np\n",
    "\n",
    "\n",
    "from aart_func import *\n",
    "import params\n",
    "from params import * # The file params.py contains all the relevant parameters for the simulations\n",
    "from astropy import units as u\n",
    "import kgeo\n",
    "import image_tools as tls\n",
    "import subprocess\n",
    "import scipy.interpolate\n",
    "import bigRunComputing\n",
    "from matplotlib import ticker\n",
    "from matplotlib.lines import Line2D\n",
    "\n",
    "%load_ext autoreload\n",
    "%autoreload 2\n",
    "import importlib \n",
    "\n",
    "from functools import partial "
   ]
  },
  {
   "cell_type": "code",
   "execution_count": 86,
   "outputs": [
    {
     "name": "stdout",
     "output_type": "stream",
     "text": [
      "2\n"
     ]
    }
   ],
   "source": [
    "profile0 = np.array([1,2,3,4])\n",
    "profile1 = np.array([1,2,3,4])\n",
    "\n",
    "profile0r =profile0.reshape(1, profile0.shape[0])\n",
    "profile1r = profile1.reshape(1, profile1.shape[0])\n",
    "\n",
    "fullr =np.concatenate([profile0r,profile1r], axis=0)\n",
    "print(fullr.shape[0])"
   ],
   "metadata": {
    "collapsed": false,
    "ExecuteTime": {
     "end_time": "2024-04-27T20:31:50.568689313Z",
     "start_time": "2024-04-27T20:31:50.535101380Z"
    }
   },
   "id": "eca4bb4470c1f575"
  },
  {
   "cell_type": "code",
   "execution_count": 88,
   "outputs": [
    {
     "data": {
      "text/plain": "array([[4.9e-324, 9.9e-324],\n       [1.5e-323, 2.0e-323],\n       [4.9e-324, 9.9e-324],\n       [1.5e-323, 2.0e-323]])"
     },
     "execution_count": 88,
     "metadata": {},
     "output_type": "execute_result"
    }
   ],
   "source": [
    "np.ndarray((4,2))"
   ],
   "metadata": {
    "collapsed": false,
    "ExecuteTime": {
     "end_time": "2024-04-27T20:34:33.905873053Z",
     "start_time": "2024-04-27T20:34:33.871281455Z"
    }
   },
   "id": "ead98be9e427a364"
  },
  {
   "cell_type": "code",
   "execution_count": 77,
   "outputs": [
    {
     "name": "stdout",
     "output_type": "stream",
     "text": [
      "Line\n",
      "LineHAAA\n",
      "Line\n"
     ]
    }
   ],
   "source": [
    "line = \"Line\"\n",
    "t = [line ]\n",
    "print(t[0])\n",
    "t[0] += \"HAAA\"\n",
    "print(t[0])\n",
    "print(line)"
   ],
   "metadata": {
    "collapsed": false,
    "ExecuteTime": {
     "end_time": "2024-04-27T19:36:33.241186533Z",
     "start_time": "2024-04-27T19:36:33.218710781Z"
    }
   },
   "id": "60ba994b81e69d3a"
  },
  {
   "cell_type": "code",
   "execution_count": 61,
   "outputs": [
    {
     "name": "stdout",
     "output_type": "stream",
     "text": [
      "[ True  True  True]\n",
      "0\n",
      "True is True:  True\n",
      "true is True:  True\n",
      "list[min]=  True\n",
      "list[min] is True =  False\n",
      "list[min] is not True =  True\n"
     ]
    }
   ],
   "source": [
    "lists = np.full((3),False)\n",
    "min_arg =np.argmin(lists)\n",
    "# print(min_arg)\n",
    "lists[0]=True\n",
    "# print(lists)\n",
    "# print(np.argmin(lists))\n",
    "# print(lists[1])\n",
    "lists[1]=True\n",
    "lists[2]=True\n",
    "print(lists)\n",
    "min_arg =np.argmin(lists)\n",
    "print(min_arg)\n",
    "\n",
    "print(\"True is True: \",True is True)\n",
    "true = True\n",
    "print(\"true is True: \", true is True)\n",
    "print(\"list[min]= \",lists[min_arg])\n",
    "print(\"list[min] is True = \",lists[min_arg] is True)\n",
    "# print(lists)\n",
    "print(\"list[min] is not True = \",(lists[min_arg] is not True))"
   ],
   "metadata": {
    "collapsed": false,
    "ExecuteTime": {
     "end_time": "2024-04-27T18:16:57.310169169Z",
     "start_time": "2024-04-27T18:16:57.306419036Z"
    }
   },
   "id": "4317097115dcfd37"
  },
  {
   "cell_type": "code",
   "execution_count": 71,
   "outputs": [
    {
     "name": "stdout",
     "output_type": "stream",
     "text": [
      "False\n"
     ]
    }
   ],
   "source": [
    "lists[0] = True\n",
    "print(not lists[0])\n"
   ],
   "metadata": {
    "collapsed": false,
    "ExecuteTime": {
     "end_time": "2024-04-27T18:20:01.546155404Z",
     "start_time": "2024-04-27T18:20:01.541230977Z"
    }
   },
   "id": "e1c6a90e4d952bf1"
  },
  {
   "cell_type": "code",
   "execution_count": 67,
   "outputs": [
    {
     "name": "stdout",
     "output_type": "stream",
     "text": [
      "True\n"
     ]
    }
   ],
   "source": [
    "var =True\n",
    "print(var is True)"
   ],
   "metadata": {
    "collapsed": false,
    "ExecuteTime": {
     "end_time": "2024-04-27T18:17:49.316844059Z",
     "start_time": "2024-04-27T18:17:49.312514387Z"
    }
   },
   "id": "d9acbb76d3d70c3c"
  },
  {
   "cell_type": "code",
   "execution_count": 3,
   "outputs": [
    {
     "data": {
      "text/plain": "'11'"
     },
     "execution_count": 3,
     "metadata": {},
     "output_type": "execute_result"
    }
   ],
   "source": [
    "t = [\"Model11\",\"Model22\"]\n",
    "t[0].replace(\"Model\",\"\")"
   ],
   "metadata": {
    "collapsed": false,
    "ExecuteTime": {
     "end_time": "2024-04-24T15:19:13.486102469Z",
     "start_time": "2024-04-24T15:19:13.446449964Z"
    }
   },
   "id": "16a14ac9861b4206"
  },
  {
   "cell_type": "code",
   "execution_count": 14,
   "outputs": [
    {
     "name": "stdout",
     "output_type": "stream",
     "text": [
      "6.262241356155654\n"
     ]
    }
   ],
   "source": [
    "t=np.linspace(0, 2 * np.pi, 300,endpoint=False)\n",
    "print(t[300-1])"
   ],
   "metadata": {
    "collapsed": false,
    "ExecuteTime": {
     "end_time": "2024-04-24T00:50:17.708928438Z",
     "start_time": "2024-04-24T00:50:17.674849627Z"
    }
   },
   "id": "afce89b2f4dbdf4a"
  },
  {
   "cell_type": "code",
   "execution_count": 17,
   "outputs": [
    {
     "data": {
      "text/plain": "6"
     },
     "execution_count": 17,
     "metadata": {},
     "output_type": "execute_result"
    }
   ],
   "source": [
    "np.array([[1,2,3],[4,6,7],[8,9,10]])[1,1]"
   ],
   "metadata": {
    "collapsed": false,
    "ExecuteTime": {
     "end_time": "2024-04-24T02:12:11.780496697Z",
     "start_time": "2024-04-24T02:12:11.749304030Z"
    }
   },
   "id": "8183a67f3b251c63"
  },
  {
   "cell_type": "code",
   "execution_count": 19,
   "outputs": [
    {
     "ename": "TypeError",
     "evalue": "unhashable type: 'list'",
     "output_type": "error",
     "traceback": [
      "\u001B[0;31m---------------------------------------------------------------------------\u001B[0m",
      "\u001B[0;31mTypeError\u001B[0m                                 Traceback (most recent call last)",
      "Cell \u001B[0;32mIn[19], line 3\u001B[0m\n\u001B[1;32m      1\u001B[0m t \u001B[38;5;241m=\u001B[39m {\u001B[38;5;124m\"\u001B[39m\u001B[38;5;124mModel11\u001B[39m\u001B[38;5;124m\"\u001B[39m:\u001B[38;5;241m1\u001B[39m, \u001B[38;5;124m\"\u001B[39m\u001B[38;5;124mModel22\u001B[39m\u001B[38;5;124m\"\u001B[39m:\u001B[38;5;241m1\u001B[39m,\u001B[38;5;124m\"\u001B[39m\u001B[38;5;124mModel33\u001B[39m\u001B[38;5;124m\"\u001B[39m:\u001B[38;5;241m1\u001B[39m,\u001B[38;5;124m\"\u001B[39m\u001B[38;5;124mModel44\u001B[39m\u001B[38;5;124m\"\u001B[39m:\u001B[38;5;241m1\u001B[39m}\n\u001B[1;32m      2\u001B[0m keys \u001B[38;5;241m=\u001B[39m [\u001B[38;5;124m\"\u001B[39m\u001B[38;5;124mModel22\u001B[39m\u001B[38;5;124m\"\u001B[39m,\u001B[38;5;124m\"\u001B[39m\u001B[38;5;124mModel33\u001B[39m\u001B[38;5;124m\"\u001B[39m]\n\u001B[0;32m----> 3\u001B[0m \u001B[38;5;28mprint\u001B[39m(t[keys])\n",
      "\u001B[0;31mTypeError\u001B[0m: unhashable type: 'list'"
     ]
    }
   ],
   "source": [
    "t = {\"Model11\":1, \"Model22\":1,\"Model33\":1,\"Model44\":1}\n",
    "keys = [\"Model22\",\"Model33\"]\n",
    "print(t[keys])"
   ],
   "metadata": {
    "collapsed": false,
    "ExecuteTime": {
     "end_time": "2024-04-24T03:23:27.499517740Z",
     "start_time": "2024-04-24T03:23:27.455701180Z"
    }
   },
   "id": "b304b4341fc7b61c"
  },
  {
   "cell_type": "code",
   "execution_count": 20,
   "outputs": [
    {
     "data": {
      "text/plain": "0"
     },
     "execution_count": 20,
     "metadata": {},
     "output_type": "execute_result"
    }
   ],
   "source": [
    "3%3"
   ],
   "metadata": {
    "collapsed": false,
    "ExecuteTime": {
     "end_time": "2024-04-24T04:39:33.167879076Z",
     "start_time": "2024-04-24T04:39:33.138872367Z"
    }
   },
   "id": "bad22c7580153452"
  }
 ],
 "metadata": {
  "kernelspec": {
   "display_name": "Python 3",
   "language": "python",
   "name": "python3"
  },
  "language_info": {
   "codemirror_mode": {
    "name": "ipython",
    "version": 2
   },
   "file_extension": ".py",
   "mimetype": "text/x-python",
   "name": "python",
   "nbconvert_exporter": "python",
   "pygments_lexer": "ipython2",
   "version": "2.7.6"
  }
 },
 "nbformat": 4,
 "nbformat_minor": 5
}
