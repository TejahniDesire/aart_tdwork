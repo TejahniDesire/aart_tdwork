{
 "cells": [
  {
   "cell_type": "code",
   "execution_count": 1,
   "id": "initial_id",
   "metadata": {
    "collapsed": true,
    "ExecuteTime": {
     "end_time": "2024-04-27T16:11:20.608028636Z",
     "start_time": "2024-04-27T16:11:18.351948921Z"
    }
   },
   "outputs": [
    {
     "name": "stdout",
     "output_type": "stream",
     "text": [
      "Warning: No NFFT installed! Cannot use nfft functions\n",
      "Warning: No NFFT installed!\n",
      "Warning: No NFFT installed! Cannot use nfft functions\n",
      "Warning: No NFFT installed! Cannot use nfft functions\n",
      "Welcome to eht-imaging! v 1.2.5 \n"
     ]
    },
    {
     "ename": "SyntaxError",
     "evalue": "invalid syntax (movieMakerIntensity.py, line 141)",
     "output_type": "error",
     "traceback": [
      "Traceback \u001B[0;36m(most recent call last)\u001B[0m:\n",
      "\u001B[0m  File \u001B[1;32m~/anaconda3/envs/aymig/lib/python3.11/site-packages/IPython/core/interactiveshell.py:3505\u001B[0m in \u001B[1;35mrun_code\u001B[0m\n    exec(code_obj, self.user_global_ns, self.user_ns)\u001B[0m\n",
      "\u001B[0m  Cell \u001B[1;32mIn[1], line 13\u001B[0m\n    import bigRunComputing\u001B[0m\n",
      "\u001B[0m  File \u001B[1;32m~/Desktop/Code_Stuff/Repositories/aart/bigRunComputing.py:11\u001B[0m\n    import astroPloting\u001B[0m\n",
      "\u001B[0;36m  File \u001B[0;32m~/Desktop/Code_Stuff/Repositories/aart/astroPloting.py:19\u001B[0;36m\n\u001B[0;31m    from movieMakerV2 import movieMakerIntensity\u001B[0;36m\n",
      "\u001B[0;36m  File \u001B[0;32m~/Desktop/Code_Stuff/Repositories/aart/movieMakerV2/movieMakerIntensity.py:141\u001B[0;36m\u001B[0m\n\u001B[0;31m    done_list =\u001B[0m\n\u001B[0m               ^\u001B[0m\n\u001B[0;31mSyntaxError\u001B[0m\u001B[0;31m:\u001B[0m invalid syntax\n"
     ]
    }
   ],
   "source": [
    "import matplotlib.pyplot as plt\n",
    "import numpy as np\n",
    "\n",
    "\n",
    "from aart_func import *\n",
    "import params\n",
    "from params import * # The file params.py contains all the relevant parameters for the simulations\n",
    "from astropy import units as u\n",
    "import kgeo\n",
    "import image_tools as tls\n",
    "import subprocess\n",
    "import scipy.interpolate\n",
    "import bigRunComputing\n",
    "from matplotlib import ticker\n",
    "from matplotlib.lines import Line2D\n",
    "\n",
    "%load_ext autoreload\n",
    "%autoreload 2\n",
    "import importlib \n",
    "from functools import partial "
   ]
  },
  {
   "cell_type": "code",
   "execution_count": 61,
   "outputs": [
    {
     "name": "stdout",
     "output_type": "stream",
     "text": [
      "[ True  True  True]\n",
      "0\n",
      "True is True:  True\n",
      "true is True:  True\n",
      "list[min]=  True\n",
      "list[min] is True =  False\n",
      "list[min] is not True =  True\n"
     ]
    }
   ],
   "source": [
    "lists = np.full((3),False)\n",
    "min_arg =np.argmin(lists)\n",
    "# print(min_arg)\n",
    "lists[0]=True\n",
    "# print(lists)\n",
    "# print(np.argmin(lists))\n",
    "# print(lists[1])\n",
    "lists[1]=True\n",
    "lists[2]=True\n",
    "print(lists)\n",
    "min_arg =np.argmin(lists)\n",
    "print(min_arg)\n",
    "\n",
    "print(\"True is True: \",True is True)\n",
    "true = True\n",
    "print(\"true is True: \", true is True)\n",
    "print(\"list[min]= \",lists[min_arg])\n",
    "print(\"list[min] is True = \",lists[min_arg] is True)\n",
    "# print(lists)\n",
    "print(\"list[min] is not True = \",(lists[min_arg] is not True))"
   ],
   "metadata": {
    "collapsed": false,
    "ExecuteTime": {
     "end_time": "2024-04-27T18:16:57.310169169Z",
     "start_time": "2024-04-27T18:16:57.306419036Z"
    }
   },
   "id": "4317097115dcfd37"
  },
  {
   "cell_type": "code",
   "execution_count": 71,
   "outputs": [
    {
     "name": "stdout",
     "output_type": "stream",
     "text": [
      "False\n"
     ]
    }
   ],
   "source": [
    "lists[0] = True\n",
    "print(not lists[0])\n"
   ],
   "metadata": {
    "collapsed": false,
    "ExecuteTime": {
     "end_time": "2024-04-27T18:20:01.546155404Z",
     "start_time": "2024-04-27T18:20:01.541230977Z"
    }
   },
   "id": "e1c6a90e4d952bf1"
  },
  {
   "cell_type": "code",
   "execution_count": 67,
   "outputs": [
    {
     "name": "stdout",
     "output_type": "stream",
     "text": [
      "True\n"
     ]
    }
   ],
   "source": [
    "var =True\n",
    "print(var is True)"
   ],
   "metadata": {
    "collapsed": false,
    "ExecuteTime": {
     "end_time": "2024-04-27T18:17:49.316844059Z",
     "start_time": "2024-04-27T18:17:49.312514387Z"
    }
   },
   "id": "d9acbb76d3d70c3c"
  },
  {
   "cell_type": "code",
   "execution_count": 3,
   "outputs": [
    {
     "data": {
      "text/plain": "'11'"
     },
     "execution_count": 3,
     "metadata": {},
     "output_type": "execute_result"
    }
   ],
   "source": [
    "t = [\"Model11\",\"Model22\"]\n",
    "t[0].replace(\"Model\",\"\")"
   ],
   "metadata": {
    "collapsed": false,
    "ExecuteTime": {
     "end_time": "2024-04-24T15:19:13.486102469Z",
     "start_time": "2024-04-24T15:19:13.446449964Z"
    }
   },
   "id": "16a14ac9861b4206"
  },
  {
   "cell_type": "code",
   "execution_count": 14,
   "outputs": [
    {
     "name": "stdout",
     "output_type": "stream",
     "text": [
      "6.262241356155654\n"
     ]
    }
   ],
   "source": [
    "t=np.linspace(0, 2 * np.pi, 300,endpoint=False)\n",
    "print(t[300-1])"
   ],
   "metadata": {
    "collapsed": false,
    "ExecuteTime": {
     "end_time": "2024-04-24T00:50:17.708928438Z",
     "start_time": "2024-04-24T00:50:17.674849627Z"
    }
   },
   "id": "afce89b2f4dbdf4a"
  },
  {
   "cell_type": "code",
   "execution_count": 17,
   "outputs": [
    {
     "data": {
      "text/plain": "6"
     },
     "execution_count": 17,
     "metadata": {},
     "output_type": "execute_result"
    }
   ],
   "source": [
    "np.array([[1,2,3],[4,6,7],[8,9,10]])[1,1]"
   ],
   "metadata": {
    "collapsed": false,
    "ExecuteTime": {
     "end_time": "2024-04-24T02:12:11.780496697Z",
     "start_time": "2024-04-24T02:12:11.749304030Z"
    }
   },
   "id": "8183a67f3b251c63"
  },
  {
   "cell_type": "code",
   "execution_count": 19,
   "outputs": [
    {
     "ename": "TypeError",
     "evalue": "unhashable type: 'list'",
     "output_type": "error",
     "traceback": [
      "\u001B[0;31m---------------------------------------------------------------------------\u001B[0m",
      "\u001B[0;31mTypeError\u001B[0m                                 Traceback (most recent call last)",
      "Cell \u001B[0;32mIn[19], line 3\u001B[0m\n\u001B[1;32m      1\u001B[0m t \u001B[38;5;241m=\u001B[39m {\u001B[38;5;124m\"\u001B[39m\u001B[38;5;124mModel11\u001B[39m\u001B[38;5;124m\"\u001B[39m:\u001B[38;5;241m1\u001B[39m, \u001B[38;5;124m\"\u001B[39m\u001B[38;5;124mModel22\u001B[39m\u001B[38;5;124m\"\u001B[39m:\u001B[38;5;241m1\u001B[39m,\u001B[38;5;124m\"\u001B[39m\u001B[38;5;124mModel33\u001B[39m\u001B[38;5;124m\"\u001B[39m:\u001B[38;5;241m1\u001B[39m,\u001B[38;5;124m\"\u001B[39m\u001B[38;5;124mModel44\u001B[39m\u001B[38;5;124m\"\u001B[39m:\u001B[38;5;241m1\u001B[39m}\n\u001B[1;32m      2\u001B[0m keys \u001B[38;5;241m=\u001B[39m [\u001B[38;5;124m\"\u001B[39m\u001B[38;5;124mModel22\u001B[39m\u001B[38;5;124m\"\u001B[39m,\u001B[38;5;124m\"\u001B[39m\u001B[38;5;124mModel33\u001B[39m\u001B[38;5;124m\"\u001B[39m]\n\u001B[0;32m----> 3\u001B[0m \u001B[38;5;28mprint\u001B[39m(t[keys])\n",
      "\u001B[0;31mTypeError\u001B[0m: unhashable type: 'list'"
     ]
    }
   ],
   "source": [
    "t = {\"Model11\":1, \"Model22\":1,\"Model33\":1,\"Model44\":1}\n",
    "keys = [\"Model22\",\"Model33\"]\n",
    "print(t[keys])"
   ],
   "metadata": {
    "collapsed": false,
    "ExecuteTime": {
     "end_time": "2024-04-24T03:23:27.499517740Z",
     "start_time": "2024-04-24T03:23:27.455701180Z"
    }
   },
   "id": "b304b4341fc7b61c"
  },
  {
   "cell_type": "code",
   "execution_count": 20,
   "outputs": [
    {
     "data": {
      "text/plain": "0"
     },
     "execution_count": 20,
     "metadata": {},
     "output_type": "execute_result"
    }
   ],
   "source": [
    "3%3"
   ],
   "metadata": {
    "collapsed": false,
    "ExecuteTime": {
     "end_time": "2024-04-24T04:39:33.167879076Z",
     "start_time": "2024-04-24T04:39:33.138872367Z"
    }
   },
   "id": "bad22c7580153452"
  }
 ],
 "metadata": {
  "kernelspec": {
   "display_name": "Python 3",
   "language": "python",
   "name": "python3"
  },
  "language_info": {
   "codemirror_mode": {
    "name": "ipython",
    "version": 2
   },
   "file_extension": ".py",
   "mimetype": "text/x-python",
   "name": "python",
   "nbconvert_exporter": "python",
   "pygments_lexer": "ipython2",
   "version": "2.7.6"
  }
 },
 "nbformat": 4,
 "nbformat_minor": 5
}
