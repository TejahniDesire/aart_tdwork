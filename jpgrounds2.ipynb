{
 "cells": [
  {
   "cell_type": "code",
   "execution_count": 1,
   "id": "initial_id",
   "metadata": {
    "collapsed": true,
    "ExecuteTime": {
     "end_time": "2024-04-22T16:25:06.034264850Z",
     "start_time": "2024-04-22T16:25:03.871245864Z"
    }
   },
   "outputs": [
    {
     "name": "stdout",
     "output_type": "stream",
     "text": [
      "Warning: No NFFT installed! Cannot use nfft functions\n",
      "Warning: No NFFT installed!\n",
      "Warning: No NFFT installed! Cannot use nfft functions\n",
      "Warning: No NFFT installed! Cannot use nfft functions\n",
      "Welcome to eht-imaging! v 1.2.5 \n"
     ]
    }
   ],
   "source": [
    "import matplotlib.pyplot as plt\n",
    "import numpy as np\n",
    "\n",
    "\n",
    "from aart_func import *\n",
    "import params\n",
    "from params import * # The file params.py contains all the relevant parameters for the simulations\n",
    "from astropy import units as u\n",
    "import kgeo\n",
    "import image_tools as tls\n",
    "import subprocess\n",
    "import scipy.interpolate\n",
    "import bigRunComputing\n",
    "from matplotlib import ticker\n",
    "from matplotlib.lines import Line2D\n",
    "\n",
    "%load_ext autoreload\n",
    "%autoreload 2\n",
    "import importlib \n",
    "from functools import partial "
   ]
  },
  {
   "cell_type": "code",
   "execution_count": 7,
   "outputs": [
    {
     "data": {
      "text/plain": "True"
     },
     "execution_count": 7,
     "metadata": {},
     "output_type": "execute_result"
    }
   ],
   "source": [
    "t = [\"Model11\",\"Model22\"]\n",
    "\"Model11\" in t"
   ],
   "metadata": {
    "collapsed": false,
    "ExecuteTime": {
     "end_time": "2024-04-22T16:26:33.676032881Z",
     "start_time": "2024-04-22T16:26:33.639227111Z"
    }
   },
   "id": "16a14ac9861b4206"
  }
 ],
 "metadata": {
  "kernelspec": {
   "display_name": "Python 3",
   "language": "python",
   "name": "python3"
  },
  "language_info": {
   "codemirror_mode": {
    "name": "ipython",
    "version": 2
   },
   "file_extension": ".py",
   "mimetype": "text/x-python",
   "name": "python",
   "nbconvert_exporter": "python",
   "pygments_lexer": "ipython2",
   "version": "2.7.6"
  }
 },
 "nbformat": 4,
 "nbformat_minor": 5
}
