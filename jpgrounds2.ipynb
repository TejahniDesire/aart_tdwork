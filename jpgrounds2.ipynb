{
 "cells": [
  {
   "cell_type": "code",
   "execution_count": 2,
   "id": "initial_id",
   "metadata": {
    "collapsed": true,
    "ExecuteTime": {
     "end_time": "2024-07-12T23:35:50.310125543Z",
     "start_time": "2024-07-12T23:35:50.280996062Z"
    }
   },
   "outputs": [
    {
     "name": "stdout",
     "output_type": "stream",
     "text": [
      "The autoreload extension is already loaded. To reload it, use:\n",
      "  %reload_ext autoreload\n"
     ]
    }
   ],
   "source": [
    "import matplotlib.pyplot as plt\n",
    "import numpy as np\n",
    "\n",
    "\n",
    "from aart_func import *\n",
    "import params\n",
    "from params import * # The file params.py contains all the relevant parameters for the simulations\n",
    "from astropy import units as u\n",
    "import kgeo\n",
    "import image_tools as tls\n",
    "import subprocess\n",
    "import scipy.interpolate\n",
    "import bigRunComputing\n",
    "from matplotlib import ticker\n",
    "from matplotlib.lines import Line2D\n",
    "import runDataClass\n",
    "\n",
    "%load_ext autoreload\n",
    "%autoreload 2\n",
    "import importlib \n",
    "\n",
    "from functools import partial "
   ]
  },
  {
   "cell_type": "code",
   "execution_count": null,
   "outputs": [],
   "source": [],
   "metadata": {
    "collapsed": false
   },
   "id": "22123122af542e9c"
  },
  {
   "cell_type": "code",
   "execution_count": 6,
   "outputs": [],
   "source": [
    "\n",
    "run = runDataClass.run2"
   ],
   "metadata": {
    "collapsed": false,
    "ExecuteTime": {
     "end_time": "2024-07-12T23:36:16.347517330Z",
     "start_time": "2024-07-12T23:36:16.317434524Z"
    }
   },
   "id": "b42ae7072918d2f4"
  },
  {
   "cell_type": "code",
   "execution_count": 7,
   "outputs": [
    {
     "data": {
      "text/plain": "[(['a'], ['0.001']), (['a'], ['0.5']), (['a'], ['0.9375'])]"
     },
     "execution_count": 7,
     "metadata": {},
     "output_type": "execute_result"
    }
   ],
   "source": [
    "run.getGeoGrid()"
   ],
   "metadata": {
    "collapsed": false,
    "ExecuteTime": {
     "end_time": "2024-07-12T23:36:16.808097612Z",
     "start_time": "2024-07-12T23:36:16.780248638Z"
    }
   },
   "id": "e8b099844fbcd9af"
  },
  {
   "cell_type": "code",
   "execution_count": 18,
   "outputs": [
    {
     "data": {
      "text/plain": "['ModelA', 'ModelB', 'ModelC']"
     },
     "execution_count": 18,
     "metadata": {},
     "output_type": "execute_result"
    }
   ],
   "source": [
    "run.getGeoGridNames()"
   ],
   "metadata": {
    "collapsed": false,
    "ExecuteTime": {
     "end_time": "2024-07-12T23:52:25.726528061Z",
     "start_time": "2024-07-12T23:52:25.688618388Z"
    }
   },
   "id": "3f540fad39f58fe9"
  },
  {
   "cell_type": "code",
   "execution_count": 12,
   "outputs": [
    {
     "data": {
      "text/plain": "['a']"
     },
     "execution_count": 12,
     "metadata": {},
     "output_type": "execute_result"
    }
   ],
   "source": [
    "run.getGeoGrid()[run.getGeoGridNames().index('ModelB')][0]"
   ],
   "metadata": {
    "collapsed": false,
    "ExecuteTime": {
     "end_time": "2024-07-12T23:38:04.243023908Z",
     "start_time": "2024-07-12T23:38:04.218934167Z"
    }
   },
   "id": "a806c07b1fddd139"
  },
  {
   "cell_type": "code",
   "execution_count": 13,
   "outputs": [
    {
     "data": {
      "text/plain": "['p_temp', 'p_mag']"
     },
     "execution_count": 13,
     "metadata": {},
     "output_type": "execute_result"
    }
   ],
   "source": [
    "run.getBPVarNames()"
   ],
   "metadata": {
    "collapsed": false,
    "ExecuteTime": {
     "end_time": "2024-07-12T23:41:41.668170071Z",
     "start_time": "2024-07-12T23:41:41.644835822Z"
    }
   },
   "id": "aeeb0e85235ccb45"
  },
  {
   "cell_type": "code",
   "execution_count": 19,
   "outputs": [
    {
     "data": {
      "text/plain": "{'p_mag': [-2, -1.5, -1],\n 'p_temp': [-1.2, -1, -0.8],\n 'p_dens': [-0.7],\n 'n_th0': [19000.0],\n 't_e0': [100000000000.0],\n 'b_0': [5],\n 'theta_b': [0.8726646259971648],\n 'mass': [1.3249659172847406e+43],\n 'nu0': [230000000000.0],\n 'scale_height': [0.5],\n 'rb_0': [5],\n 'beta': [1.0],\n 'r_ie': [10.0],\n 'nscale': [0.4]}"
     },
     "execution_count": 19,
     "metadata": {},
     "output_type": "execute_result"
    }
   ],
   "source": [
    "run.getBrightparams()"
   ],
   "metadata": {
    "collapsed": false,
    "ExecuteTime": {
     "end_time": "2024-07-12T23:54:11.931968015Z",
     "start_time": "2024-07-12T23:54:11.894605179Z"
    }
   },
   "id": "3d57209303cb9b13"
  },
  {
   "cell_type": "code",
   "execution_count": 17,
   "outputs": [
    {
     "data": {
      "text/plain": "'1'"
     },
     "execution_count": 17,
     "metadata": {},
     "output_type": "execute_result"
    }
   ],
   "source": [
    "t = \"Model_12\"\n",
    "t.split('_')[1][0]"
   ],
   "metadata": {
    "collapsed": false,
    "ExecuteTime": {
     "end_time": "2024-07-12T23:48:01.158700677Z",
     "start_time": "2024-07-12T23:48:01.123635216Z"
    }
   },
   "id": "ae2c53681be1d242"
  },
  {
   "cell_type": "code",
   "execution_count": null,
   "outputs": [],
   "source": [],
   "metadata": {
    "collapsed": false
   },
   "id": "6a4d51f83235f610"
  }
 ],
 "metadata": {
  "kernelspec": {
   "display_name": "Python 3",
   "language": "python",
   "name": "python3"
  },
  "language_info": {
   "codemirror_mode": {
    "name": "ipython",
    "version": 2
   },
   "file_extension": ".py",
   "mimetype": "text/x-python",
   "name": "python",
   "nbconvert_exporter": "python",
   "pygments_lexer": "ipython2",
   "version": "2.7.6"
  }
 },
 "nbformat": 4,
 "nbformat_minor": 5
}
