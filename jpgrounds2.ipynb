{
 "cells": [
  {
   "cell_type": "code",
   "execution_count": 2,
   "id": "initial_id",
   "metadata": {
    "collapsed": true,
    "ExecuteTime": {
     "end_time": "2024-03-14T22:44:44.350127249Z",
     "start_time": "2024-03-14T22:44:44.310456100Z"
    }
   },
   "outputs": [],
   "source": [
    "import matplotlib.pyplot as plt\n",
    "import numpy as np\n",
    "\n",
    "\n",
    "from aart_func import *\n",
    "import params\n",
    "from params import * # The file params.py contains all the relevant parameters for the simulations\n",
    "from astropy import units as u\n",
    "import kgeo\n",
    "import image_tools as tls\n",
    "import subprocess\n",
    "import scipy.interpolate\n",
    "\n",
    "from matplotlib import ticker\n",
    "from matplotlib.lines import Line2D\n",
    "\n",
    "%load_ext autoreload\n",
    "%autoreload 2\n",
    "import importlib \n",
    "from functools import partial"
   ]
  },
  {
   "cell_type": "code",
   "execution_count": 45,
   "outputs": [
    {
     "name": "stdout",
     "output_type": "stream",
     "text": [
      "[[  0.   0. 100.]\n",
      " [  2.   2.   2.]]\n",
      "1\n",
      "Not All False\n",
      "[2]\n"
     ]
    }
   ],
   "source": [
    "t = np.zeros(3)\n",
    "t[2] = 100\n",
    "t = np.vstack((t,np.array([2,2,2])))\n",
    "print(t)\n",
    "# print(\"_________\")\n",
    "# t = np.delete(t,0,0)\n",
    "# print(t)\n",
    "peak = np.argmax(t,1)\n",
    "print(np.argmax(peak==0))\n",
    "if not np.all((peak==0) == False):\n",
    "    print(\"Not All False\")\n",
    "peak = np.delete(peak,np.argmax(peak==0))\n",
    "print(peak)"
   ],
   "metadata": {
    "collapsed": false,
    "ExecuteTime": {
     "end_time": "2024-03-14T23:53:17.426064285Z",
     "start_time": "2024-03-14T23:53:17.399989649Z"
    }
   },
   "id": "d034384b6fc24c6d"
  },
  {
   "cell_type": "code",
   "execution_count": 14,
   "outputs": [
    {
     "data": {
      "text/plain": "'3.00'"
     },
     "execution_count": 14,
     "metadata": {},
     "output_type": "execute_result"
    }
   ],
   "source": [],
   "metadata": {
    "collapsed": false,
    "ExecuteTime": {
     "end_time": "2024-03-14T23:01:06.032545308Z",
     "start_time": "2024-03-14T23:01:06.000293623Z"
    }
   },
   "id": "6dec19adc3dfd131"
  }
 ],
 "metadata": {
  "kernelspec": {
   "display_name": "Python 3",
   "language": "python",
   "name": "python3"
  },
  "language_info": {
   "codemirror_mode": {
    "name": "ipython",
    "version": 2
   },
   "file_extension": ".py",
   "mimetype": "text/x-python",
   "name": "python",
   "nbconvert_exporter": "python",
   "pygments_lexer": "ipython2",
   "version": "2.7.6"
  }
 },
 "nbformat": 4,
 "nbformat_minor": 5
}
