{
 "cells": [
  {
   "cell_type": "code",
   "execution_count": 8,
   "id": "initial_id",
   "metadata": {
    "collapsed": true,
    "ExecuteTime": {
     "end_time": "2024-04-24T00:48:29.928040848Z",
     "start_time": "2024-04-24T00:48:29.027780821Z"
    }
   },
   "outputs": [
    {
     "name": "stdout",
     "output_type": "stream",
     "text": [
      "The autoreload extension is already loaded. To reload it, use:\n",
      "  %reload_ext autoreload\n"
     ]
    }
   ],
   "source": [
    "import matplotlib.pyplot as plt\n",
    "import numpy as np\n",
    "\n",
    "\n",
    "from aart_func import *\n",
    "import params\n",
    "from params import * # The file params.py contains all the relevant parameters for the simulations\n",
    "from astropy import units as u\n",
    "import kgeo\n",
    "import image_tools as tls\n",
    "import subprocess\n",
    "import scipy.interpolate\n",
    "import bigRunComputing\n",
    "from matplotlib import ticker\n",
    "from matplotlib.lines import Line2D\n",
    "\n",
    "%load_ext autoreload\n",
    "%autoreload 2\n",
    "import importlib \n",
    "from functools import partial "
   ]
  },
  {
   "cell_type": "code",
   "execution_count": 7,
   "outputs": [
    {
     "data": {
      "text/plain": "True"
     },
     "execution_count": 7,
     "metadata": {},
     "output_type": "execute_result"
    }
   ],
   "source": [
    "t = [\"Model11\",\"Model22\"]\n",
    "\"Model11\" in t"
   ],
   "metadata": {
    "collapsed": false,
    "ExecuteTime": {
     "end_time": "2024-04-22T16:26:33.676032881Z",
     "start_time": "2024-04-22T16:26:33.639227111Z"
    }
   },
   "id": "16a14ac9861b4206"
  },
  {
   "cell_type": "code",
   "execution_count": 14,
   "outputs": [
    {
     "name": "stdout",
     "output_type": "stream",
     "text": [
      "6.262241356155654\n"
     ]
    }
   ],
   "source": [
    "t=np.linspace(0, 2 * np.pi, 300,endpoint=False)\n",
    "print(t[300-1])"
   ],
   "metadata": {
    "collapsed": false,
    "ExecuteTime": {
     "end_time": "2024-04-24T00:50:17.708928438Z",
     "start_time": "2024-04-24T00:50:17.674849627Z"
    }
   },
   "id": "afce89b2f4dbdf4a"
  },
  {
   "cell_type": "code",
   "execution_count": 17,
   "outputs": [
    {
     "data": {
      "text/plain": "6"
     },
     "execution_count": 17,
     "metadata": {},
     "output_type": "execute_result"
    }
   ],
   "source": [
    "np.array([[1,2,3],[4,6,7],[8,9,10]])[1,1]"
   ],
   "metadata": {
    "collapsed": false,
    "ExecuteTime": {
     "end_time": "2024-04-24T02:12:11.780496697Z",
     "start_time": "2024-04-24T02:12:11.749304030Z"
    }
   },
   "id": "8183a67f3b251c63"
  },
  {
   "cell_type": "code",
   "execution_count": null,
   "outputs": [],
   "source": [],
   "metadata": {
    "collapsed": false
   },
   "id": "b304b4341fc7b61c"
  }
 ],
 "metadata": {
  "kernelspec": {
   "display_name": "Python 3",
   "language": "python",
   "name": "python3"
  },
  "language_info": {
   "codemirror_mode": {
    "name": "ipython",
    "version": 2
   },
   "file_extension": ".py",
   "mimetype": "text/x-python",
   "name": "python",
   "nbconvert_exporter": "python",
   "pygments_lexer": "ipython2",
   "version": "2.7.6"
  }
 },
 "nbformat": 4,
 "nbformat_minor": 5
}
